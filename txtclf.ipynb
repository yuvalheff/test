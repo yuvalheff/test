{
 "cells": [
  {
   "cell_type": "code",
   "execution_count": 1,
   "metadata": {},
   "outputs": [],
   "source": [
    "from sklearn.base import BaseEstimator, TransformerMixin\n",
    "from sklearn.utils.validation import check_is_fitted\n",
    "from sklearn.pipeline import Pipeline\n",
    "import scikitplot as skplt\n",
    "import transformers"
   ]
  },
  {
   "cell_type": "code",
   "execution_count": 2,
   "metadata": {},
   "outputs": [
    {
     "name": "stderr",
     "output_type": "stream",
     "text": [
      "[nltk_data] Downloading package words to /Users/yheffetz/nltk_data...\n",
      "[nltk_data]   Package words is already up-to-date!\n",
      "[nltk_data] Downloading package punkt to /Users/yheffetz/nltk_data...\n",
      "[nltk_data]   Package punkt is already up-to-date!\n",
      "[nltk_data] Downloading package averaged_perceptron_tagger to\n",
      "[nltk_data]     /Users/yheffetz/nltk_data...\n",
      "[nltk_data]   Package averaged_perceptron_tagger is already up-to-\n",
      "[nltk_data]       date!\n",
      "[nltk_data] Downloading package maxent_ne_chunker to\n",
      "[nltk_data]     /Users/yheffetz/nltk_data...\n",
      "[nltk_data]   Package maxent_ne_chunker is already up-to-date!\n"
     ]
    }
   ],
   "source": [
    "from sklearn.metrics import accuracy_score, classification_report\n",
    "from xgboost.sklearn import XGBClassifier\n",
    "import optuna\n",
    "import spacy\n",
    "nlp = spacy.load(\"en_core_web_md\")\n",
    "import re\n",
    "import nltk\n",
    "import string\n",
    "import itertools\n",
    "from nltk.corpus import stopwords\n",
    "from nltk.stem import PorterStemmer\n",
    "from nltk.stem import WordNetLemmatizer\n",
    "from nltk.tokenize import RegexpTokenizer\n",
    "nltk.download('words')\n",
    "nltk.download('punkt')\n",
    "nltk.download('averaged_perceptron_tagger')\n",
    "nltk.download('maxent_ne_chunker')\n",
    "\n",
    "from nltk import pos_tag, ne_chunk\n",
    "\n",
    "import warnings\n",
    "\n",
    "warnings.filterwarnings('ignore')"
   ]
  },
  {
   "cell_type": "markdown",
   "metadata": {},
   "source": [
    "## EDA"
   ]
  },
  {
   "cell_type": "code",
   "execution_count": 3,
   "metadata": {
    "scrolled": true
   },
   "outputs": [],
   "source": [
    "import pandas as pd\n",
    "df = pd.read_csv('complaints.csv')[['Consumer complaint narrative', 'Product']]\n",
    "df.columns = ['text', 'Product']"
   ]
  },
  {
   "cell_type": "code",
   "execution_count": 4,
   "metadata": {},
   "outputs": [
    {
     "data": {
      "text/plain": [
       "(3059760, 2)"
      ]
     },
     "execution_count": 4,
     "metadata": {},
     "output_type": "execute_result"
    }
   ],
   "source": [
    "df.shape"
   ]
  },
  {
   "cell_type": "code",
   "execution_count": 5,
   "metadata": {},
   "outputs": [
    {
     "data": {
      "text/plain": [
       "['Debt collection',\n",
       " 'Credit card or prepaid card',\n",
       " 'Mortgage',\n",
       " 'Checking or savings account',\n",
       " 'Student loan',\n",
       " 'Vehicle loan or lease']"
      ]
     },
     "execution_count": 5,
     "metadata": {},
     "output_type": "execute_result"
    }
   ],
   "source": [
    "target={'Debt collection':0, \n",
    "        'Credit card or prepaid card':1, \n",
    "        'Mortgage':2, \n",
    "        'Checking or savings account':3, \n",
    "        'Student loan':4, \n",
    "        'Vehicle loan or lease':5}\n",
    "\n",
    "targets = list(target.keys())\n",
    "targets"
   ]
  },
  {
   "cell_type": "code",
   "execution_count": 6,
   "metadata": {},
   "outputs": [],
   "source": [
    "df = df[df['Product'].isin(targets)]"
   ]
  },
  {
   "cell_type": "code",
   "execution_count": 7,
   "metadata": {},
   "outputs": [
    {
     "data": {
      "text/plain": [
       "Debt collection                450226\n",
       "Mortgage                       364312\n",
       "Credit card or prepaid card    163602\n",
       "Checking or savings account    140174\n",
       "Student loan                    71097\n",
       "Vehicle loan or lease           36721\n",
       "Name: Product, dtype: int64"
      ]
     },
     "execution_count": 7,
     "metadata": {},
     "output_type": "execute_result"
    }
   ],
   "source": [
    "df = df.reset_index(drop=True)\n",
    "df['Product'].value_counts()"
   ]
  },
  {
   "cell_type": "code",
   "execution_count": 8,
   "metadata": {},
   "outputs": [],
   "source": [
    "sample_df = df.sample(20000)"
   ]
  },
  {
   "cell_type": "code",
   "execution_count": 9,
   "metadata": {},
   "outputs": [
    {
     "data": {
      "text/plain": [
       "Debt collection                7455\n",
       "Mortgage                       5908\n",
       "Credit card or prepaid card    2672\n",
       "Checking or savings account    2287\n",
       "Student loan                   1112\n",
       "Vehicle loan or lease           566\n",
       "Name: Product, dtype: int64"
      ]
     },
     "execution_count": 9,
     "metadata": {},
     "output_type": "execute_result"
    }
   ],
   "source": [
    "sample_df['Product'].value_counts()"
   ]
  },
  {
   "cell_type": "code",
   "execution_count": 10,
   "metadata": {},
   "outputs": [],
   "source": [
    "del df"
   ]
  },
  {
   "cell_type": "code",
   "execution_count": 11,
   "metadata": {},
   "outputs": [
    {
     "data": {
      "text/html": [
       "<div>\n",
       "<style scoped>\n",
       "    .dataframe tbody tr th:only-of-type {\n",
       "        vertical-align: middle;\n",
       "    }\n",
       "\n",
       "    .dataframe tbody tr th {\n",
       "        vertical-align: top;\n",
       "    }\n",
       "\n",
       "    .dataframe thead th {\n",
       "        text-align: right;\n",
       "    }\n",
       "</style>\n",
       "<table border=\"1\" class=\"dataframe\">\n",
       "  <thead>\n",
       "    <tr style=\"text-align: right;\">\n",
       "      <th></th>\n",
       "      <th>text</th>\n",
       "      <th>Product</th>\n",
       "    </tr>\n",
       "  </thead>\n",
       "  <tbody>\n",
       "    <tr>\n",
       "      <th>1176137</th>\n",
       "      <td>Alleged payday loan that I took out at an undi...</td>\n",
       "      <td>Debt collection</td>\n",
       "    </tr>\n",
       "    <tr>\n",
       "      <th>1200472</th>\n",
       "      <td>NaN</td>\n",
       "      <td>Credit card or prepaid card</td>\n",
       "    </tr>\n",
       "    <tr>\n",
       "      <th>47783</th>\n",
       "      <td>XXXX i still do not have my corrected 1098 for...</td>\n",
       "      <td>Mortgage</td>\n",
       "    </tr>\n",
       "    <tr>\n",
       "      <th>1156391</th>\n",
       "      <td>On XX/XX/XXXX I received notification from XXX...</td>\n",
       "      <td>Credit card or prepaid card</td>\n",
       "    </tr>\n",
       "    <tr>\n",
       "      <th>454825</th>\n",
       "      <td>I received a notification from XXXX XXXX that ...</td>\n",
       "      <td>Student loan</td>\n",
       "    </tr>\n",
       "  </tbody>\n",
       "</table>\n",
       "</div>"
      ],
      "text/plain": [
       "                                                      text  \\\n",
       "1176137  Alleged payday loan that I took out at an undi...   \n",
       "1200472                                                NaN   \n",
       "47783    XXXX i still do not have my corrected 1098 for...   \n",
       "1156391  On XX/XX/XXXX I received notification from XXX...   \n",
       "454825   I received a notification from XXXX XXXX that ...   \n",
       "\n",
       "                             Product  \n",
       "1176137              Debt collection  \n",
       "1200472  Credit card or prepaid card  \n",
       "47783                       Mortgage  \n",
       "1156391  Credit card or prepaid card  \n",
       "454825                  Student loan  "
      ]
     },
     "execution_count": 11,
     "metadata": {},
     "output_type": "execute_result"
    }
   ],
   "source": [
    "sample_df.head()"
   ]
  },
  {
   "cell_type": "code",
   "execution_count": 12,
   "metadata": {},
   "outputs": [
    {
     "data": {
      "text/plain": [
       "(7794, 2)"
      ]
     },
     "execution_count": 12,
     "metadata": {},
     "output_type": "execute_result"
    }
   ],
   "source": [
    "df = sample_df\n",
    "df = df.dropna(axis=0)\n",
    "df.shape"
   ]
  },
  {
   "cell_type": "code",
   "execution_count": 13,
   "metadata": {},
   "outputs": [
    {
     "data": {
      "text/plain": [
       "<AxesSubplot:ylabel='Frequency'>"
      ]
     },
     "execution_count": 13,
     "metadata": {},
     "output_type": "execute_result"
    },
    {
     "data": {
      "image/png": "[encoded data removed]",
      "text/plain": [
       "<Figure size 432x288 with 1 Axes>"
      ]
     },
     "metadata": {
      "needs_background": "light"
     },
     "output_type": "display_data"
    }
   ],
   "source": [
    "df['tokens'] = df.text.apply(lambda x: x.split())\n",
    "df['num_tokens'] = df['tokens'].apply(len)\n",
    "df['num_tokens'].plot.hist()"
   ]
  },
  {
   "cell_type": "code",
   "execution_count": 14,
   "metadata": {},
   "outputs": [
    {
     "data": {
      "text/plain": [
       "<AxesSubplot:ylabel='Frequency'>"
      ]
     },
     "execution_count": 14,
     "metadata": {},
     "output_type": "execute_result"
    },
    {
     "data": {
      "image/png": "[encoded data removed]",
      "text/plain": [
       "<Figure size 432x288 with 1 Axes>"
      ]
     },
     "metadata": {
      "needs_background": "light"
     },
     "output_type": "display_data"
    }
   ],
   "source": [
    "df = df[df['num_tokens'] < 1500]\n",
    "df['num_tokens'].plot.hist()"
   ]
  },
  {
   "cell_type": "code",
   "execution_count": 15,
   "metadata": {},
   "outputs": [
    {
     "data": {
      "text/plain": [
       "(7758, 4)"
      ]
     },
     "execution_count": 15,
     "metadata": {},
     "output_type": "execute_result"
    }
   ],
   "source": [
    "df.shape"
   ]
  },
  {
   "cell_type": "code",
   "execution_count": 16,
   "metadata": {},
   "outputs": [
    {
     "data": {
      "text/plain": [
       "Debt collection                3228\n",
       "Mortgage                       1574\n",
       "Credit card or prepaid card    1284\n",
       "Checking or savings account     866\n",
       "Student loan                    512\n",
       "Vehicle loan or lease           294\n",
       "Name: Product, dtype: int64"
      ]
     },
     "execution_count": 16,
     "metadata": {},
     "output_type": "execute_result"
    }
   ],
   "source": [
    "df['Product'].value_counts()"
   ]
  },
  {
   "cell_type": "code",
   "execution_count": 17,
   "metadata": {},
   "outputs": [
    {
     "data": {
      "image/png": "[encoded data removed]",
      "text/plain": [
       "<Figure size 432x288 with 1 Axes>"
      ]
     },
     "metadata": {
      "needs_background": "light"
     },
     "output_type": "display_data"
    }
   ],
   "source": [
    "from wordcloud import WordCloud, STOPWORDS\n",
    "import matplotlib.pyplot as plt\n",
    "\n",
    "text = list(df[:10000].text.values)\n",
    "\n",
    "wordcloud = WordCloud(stopwords=STOPWORDS).generate(str(text))\n",
    "\n",
    "plt.imshow(wordcloud)\n",
    "plt.axis(\"off\")\n",
    "plt.show()"
   ]
  },
  {
   "cell_type": "code",
   "execution_count": 27,
   "metadata": {},
   "outputs": [],
   "source": [
    "df['target'] = df['Product'].map(target)"
   ]
  },
  {
   "cell_type": "markdown",
   "metadata": {},
   "source": [
    "## Baseline"
   ]
  },
  {
   "cell_type": "code",
   "execution_count": 97,
   "metadata": {},
   "outputs": [],
   "source": [
    "from tqdm import tqdm\n",
    "tqdm.pandas()\n",
    "\n",
    "class TextPreprocessing:\n",
    "    def __init__(self, w2v=True):\n",
    "        self.stop_words = stopwords.words('english')\n",
    "        self.stemmer = PorterStemmer()\n",
    "        self.lemmatizer = WordNetLemmatizer()\n",
    "    \n",
    "    def _text_cleaning(self, text):\n",
    "        \n",
    "        # replace XX pattern\n",
    "        regex = re.compile(r'[X]{2,}', re.S)\n",
    "        text = regex.sub(lambda m: m.group().replace('X',\"1\"), text)\n",
    "        \n",
    "        text = text.lower()\n",
    "\n",
    "        # Remove all the special characters\n",
    "        clean_text = re.sub(r'[^A-Za-z$]+', ' ', text)\n",
    "\n",
    "        # remove all single characters\n",
    "        clean_text = re.sub(r'\\b[a-zA-Z]\\b', '', clean_text)\n",
    "\n",
    "        # Remove single characters from the start\n",
    "        clean_text = re.sub(r'\\^[a-zA-Z]\\b', ' ', clean_text)\n",
    "\n",
    "        # Substituting multiple spaces with single space\n",
    "        clean_text = re.sub(r'\\s+', ' ', clean_text, flags=re.I)\n",
    "        \n",
    "        return clean_text\n",
    "        \n",
    "    def _tokenization(self, text):\n",
    "\n",
    "        tokens = nltk.word_tokenize(text)\n",
    "\n",
    "        # Remove stopwords\n",
    "\n",
    "        tokens = [word for word in tokens if not word in self.stop_words]\n",
    "        \n",
    "        # Stemming tokens\n",
    "        tokens = [self.stemmer.stem(token) for token in tokens]\n",
    "\n",
    "        #Lemmatizing tokens\n",
    "        tokens = [self.lemmatizer.lemmatize(token, pos='v') for token in tokens]\n",
    "\n",
    "        return tokens\n",
    "\n",
    "    def transform(self, df):\n",
    "        \n",
    "#         classifier = transformers.pipeline(\"zero-shot-classification\", \n",
    "#                                            model=\"cross-encoder/nli-distilroberta-base\", device='cpu')    \n",
    "        \n",
    "#         labels = df['Product'].drop_duplicates().tolist()\n",
    "\n",
    "#         ds_df = df.reset_index(drop=True)[['text']].rename({\"text\": \"sequences\"}, axis='columns')\n",
    "#         ds_df['sequences'] = ds_df['sequences'].apply(lambda x: x[:100])\n",
    "#         ds = Dataset.from_pandas(ds_df)\n",
    "#         scores = []\n",
    "#         for out in tqdm(classifier(ds['sequences'], labels, batch_size=20)):\n",
    "#             scores.append(out['scores'])\n",
    "        \n",
    "#         zcols = [f'zero_shot_{label}' for label in labels]    \n",
    "#         zero_shot_df = pd.DataFrame(scores, columns=zcols)\n",
    "#         df = pd.concat([df, zero_shot_df], axis='columns')\n",
    "        \n",
    "        df['clean_text'] = df['text'].progress_apply(self._text_cleaning)\n",
    "        \n",
    "        df['tokens'] = df['clean_text'].progress_apply(self._tokenization)\n",
    "        \n",
    "        df['tokenized_text'] = df['tokens'].progress_apply(lambda x: ' '.join(x))\n",
    "        \n",
    "        df['spacy_docs'] = df['text'].progress_apply(lambda x: nlp(x))\n",
    "        df['w2v'] = df['spacy_docs'].progress_apply(lambda x: x.vector.reshape(1, -1)[0])\n",
    "        \n",
    "        for target in df['Product'].drop_duplicates():\n",
    "            col_name = f'w2v_sim_{target}'\n",
    "            target_doc = nlp(target)\n",
    "            df[col_name] = df['spacy_docs'].progress_apply(lambda x: x.similarity(target_doc))\n",
    "            \n",
    "        for target in df['Product'].drop_duplicates():\n",
    "            col_name = f'zero_shot_{target}'\n",
    "\n",
    "        return df\n",
    "        "
   ]
  },
  {
   "cell_type": "code",
   "execution_count": 98,
   "metadata": {},
   "outputs": [],
   "source": [
    "from sklearn.feature_extraction.text import TfidfVectorizer\n",
    "\n",
    "class FeatureExtraction(BaseEstimator, TransformerMixin):\n",
    "    def __init__(self, args=None):\n",
    "        self.vectorizer_tfidf = None\n",
    "        self.args = args\n",
    "        self.text_col = self.args['text_col']\n",
    "        self.w2v_col = self.args['w2v_col']\n",
    "            \n",
    "    def fit(self, X, y = None):\n",
    "        self.vectorizer_tfidf = TfidfVectorizer(**args['tfidf'])\n",
    "        self.vectorizer_tfidf.fit(X[self.text_col])\n",
    "    \n",
    "    def transform(self, X, y = None):\n",
    "        X = X.reset_index(drop=True)\n",
    "        tfidf_vec = self.vectorizer_tfidf.transform(X[self.text_col])\n",
    "        tfidf_df = pd.DataFrame(tfidf_vec.toarray(), columns=self.vectorizer_tfidf.get_feature_names())\n",
    "        \n",
    "        w2v_cols = [f'w2v_{i}' for i in list(range(X[self.w2v_col][0].shape[0]))]\n",
    "        w2v_df = pd.DataFrame(X[self.w2v_col].tolist(), columns=w2v_cols)\n",
    "        \n",
    "        sim_cols = [c for c in X.columns if 'w2v_sim' in c]\n",
    "        sim_df = X[sim_cols]\n",
    "        \n",
    "        zshot_cols = [c for c in X.columns if 'zero_shot' in c]\n",
    "        zshot_df = X[zshot_cols]\n",
    "        \n",
    "        return pd.concat([tfidf_df, w2v_df, sim_df, zshot_df], axis=1)\n",
    "\n",
    "    \n",
    "    def fit_transform(self, X, y = None):\n",
    "        X = X.reset_index(drop=True)\n",
    "        self.fit(X)\n",
    "        return self.transform(X)\n",
    "        "
   ]
  },
  {
   "cell_type": "code",
   "execution_count": null,
   "metadata": {},
   "outputs": [],
   "source": [
    "tp = TextPreprocessing()\n",
    "\n",
    "df = tp.transform(df)\n",
    "df.head()"
   ]
  },
  {
   "cell_type": "code",
   "execution_count": 299,
   "metadata": {},
   "outputs": [],
   "source": [
    "from sklearn.model_selection import train_test_split\n",
    "\n",
    "df_train, df_test = train_test_split(df, test_size=0.2, random_state=111)"
   ]
  },
  {
   "cell_type": "code",
   "execution_count": 300,
   "metadata": {},
   "outputs": [],
   "source": [
    "y_train = df_train.reset_index(drop=True)['target']\n",
    "y_test = df_test.reset_index(drop=True)['target']"
   ]
  },
  {
   "cell_type": "markdown",
   "metadata": {},
   "source": [
    "## HP Tuning"
   ]
  },
  {
   "cell_type": "code",
   "execution_count": 301,
   "metadata": {},
   "outputs": [],
   "source": [
    "from sklearn.model_selection import cross_val_score\n",
    "import numpy as np\n",
    "\n",
    "def objective(trial):\n",
    "    \n",
    "    feature_args = {\n",
    "        \n",
    "        'ngram_range': trial.suggest_categorical('ngram_range', [(1, 1), (1, 2), (1, 3)]),\n",
    "        'max_df': trial.suggest_loguniform('max_df', 0.7, 0.95),\n",
    "        'min_df': trial.suggest_loguniform('min_df', 0.005, 0.05),\n",
    "        'max_features': 500,\n",
    "        'text_col': 'tokenized_text',\n",
    "        'w2v_col': 'w2v'\n",
    "    }\n",
    "    \n",
    "    xgb_params = {\n",
    "        'max_depth': trial.suggest_int('max_depth', 1, 9),\n",
    "        'learning_rate': trial.suggest_loguniform('learning_rate', 0.01, 1.0),\n",
    "        'n_estimators': trial.suggest_int('n_estimators', 50, 500),\n",
    "        'min_child_weight': trial.suggest_int('min_child_weight', 1, 10),\n",
    "        'gamma': trial.suggest_loguniform('gamma', 1e-8, 1.0),\n",
    "        'subsample': trial.suggest_loguniform('subsample', 0.01, 1.0),\n",
    "        'colsample_bytree': trial.suggest_loguniform('colsample_bytree', 0.01, 1.0),\n",
    "        'reg_alpha': trial.suggest_loguniform('reg_alpha', 1e-8, 1.0),\n",
    "        'reg_lambda': trial.suggest_loguniform('reg_lambda', 1e-8, 1.0),\n",
    "        'eval_metric': 'mlogloss',\n",
    "        'use_label_encoder': False\n",
    "    }\n",
    "    \n",
    "\n",
    "    # Fit the model\n",
    "    optuna_model = baseline_pipe = Pipeline(steps=[\n",
    "        ('fe', FeatureExtraction(args=feature_args)),\n",
    "        ('xgb', XGBClassifier(**xgb_params))\n",
    "    ])\n",
    "\n",
    "    # 4-fold CV score\n",
    "    score = np.array(cross_val_score(optuna_model, \n",
    "                                     df_train, \n",
    "                                     y_train, \n",
    "                                     cv=4, \n",
    "                                     scoring='f1_macro')).mean()\n",
    "\n",
    "    return score"
   ]
  },
  {
   "cell_type": "code",
   "execution_count": 304,
   "metadata": {},
   "outputs": [
    {
     "name": "stderr",
     "output_type": "stream",
     "text": [
      "\u001b[32m[I 2022-11-13 17:02:31,844]\u001b[0m A new study created in memory with name: no-name-54be5c9b-2ee3-4ae9-a61e-ce212b184936\u001b[0m\n"
     ]
    }
   ],
   "source": [
    "study = optuna.create_study(direction='maximize')"
   ]
  },
  {
   "cell_type": "code",
   "execution_count": 305,
   "metadata": {
    "scrolled": true
   },
   "outputs": [
    {
     "name": "stderr",
     "output_type": "stream",
     "text": [
      "\u001b[32m[I 2022-11-13 17:03:06,618]\u001b[0m Trial 0 finished with value: 0.7815854483758435 and parameters: {'ngram_range': (1, 1), 'max_df': 0.704584636465177, 'min_df': 0.046581906458569466, 'max_depth': 5, 'learning_rate': 0.0424302098071921, 'n_estimators': 391, 'min_child_weight': 5, 'gamma': 0.0019594812313602815, 'subsample': 0.236054892064624, 'colsample_bytree': 0.08638755395598695, 'reg_alpha': 1.6887460935833313e-07, 'reg_lambda': 0.05530955368784443}. Best is trial 0 with value: 0.7815854483758435.\u001b[0m\n",
      "\u001b[32m[I 2022-11-13 17:03:16,273]\u001b[0m Trial 1 finished with value: 0.31672180586966026 and parameters: {'ngram_range': (1, 3), 'max_df': 0.8681091102577271, 'min_df': 0.03815389171212569, 'max_depth': 8, 'learning_rate': 0.0700273263497973, 'n_estimators': 213, 'min_child_weight': 3, 'gamma': 0.008680599190467124, 'subsample': 0.01407206007300339, 'colsample_bytree': 0.011003574063188632, 'reg_alpha': 1.0384784924418696e-06, 'reg_lambda': 0.494546713353236}. Best is trial 0 with value: 0.7815854483758435.\u001b[0m\n",
      "\u001b[32m[I 2022-11-13 17:03:34,404]\u001b[0m Trial 2 finished with value: 0.7662319991421638 and parameters: {'ngram_range': (1, 3), 'max_df': 0.9338395258727432, 'min_df': 0.005387802600473317, 'max_depth': 1, 'learning_rate': 0.1052372081595487, 'n_estimators': 249, 'min_child_weight': 1, 'gamma': 4.461720295591656e-06, 'subsample': 0.04050758236751225, 'colsample_bytree': 0.8652507509045624, 'reg_alpha': 0.5223256190070432, 'reg_lambda': 4.439611822725219e-07}. Best is trial 0 with value: 0.7815854483758435.\u001b[0m\n",
      "\u001b[32m[I 2022-11-13 17:04:11,590]\u001b[0m Trial 3 finished with value: 0.5748781717324466 and parameters: {'ngram_range': (1, 2), 'max_df': 0.7232657968003399, 'min_df': 0.006263049518832563, 'max_depth': 5, 'learning_rate': 0.7853748352936762, 'n_estimators': 351, 'min_child_weight': 5, 'gamma': 0.004099119921416161, 'subsample': 0.15098977526818347, 'colsample_bytree': 0.35177870335893546, 'reg_alpha': 0.001083106800752921, 'reg_lambda': 1.099708063980448e-06}. Best is trial 0 with value: 0.7815854483758435.\u001b[0m\n",
      "\u001b[32m[I 2022-11-13 17:04:19,932]\u001b[0m Trial 4 finished with value: 0.35270596680814115 and parameters: {'ngram_range': (1, 1), 'max_df': 0.8395471353164826, 'min_df': 0.04453789424928918, 'max_depth': 9, 'learning_rate': 0.02928175291309743, 'n_estimators': 107, 'min_child_weight': 6, 'gamma': 0.15767711974411727, 'subsample': 0.028093227192464973, 'colsample_bytree': 0.08063500812270016, 'reg_alpha': 0.0008399001722395818, 'reg_lambda': 1.4597406012300942e-07}. Best is trial 0 with value: 0.7815854483758435.\u001b[0m\n",
      "\u001b[32m[I 2022-11-13 17:05:19,764]\u001b[0m Trial 5 finished with value: 0.778796649924495 and parameters: {'ngram_range': (1, 1), 'max_df': 0.704742099018509, 'min_df': 0.009278602727818901, 'max_depth': 8, 'learning_rate': 0.1121946137904228, 'n_estimators': 435, 'min_child_weight': 2, 'gamma': 7.704283102827888e-05, 'subsample': 0.5131589440891483, 'colsample_bytree': 0.07608774086056516, 'reg_alpha': 0.007072899814749742, 'reg_lambda': 1.1656486432185875e-05}. Best is trial 0 with value: 0.7815854483758435.\u001b[0m\n",
      "\u001b[32m[I 2022-11-13 17:05:36,271]\u001b[0m Trial 6 finished with value: 0.5879155480301904 and parameters: {'ngram_range': (1, 3), 'max_df': 0.9202232945349949, 'min_df': 0.04831199299229755, 'max_depth': 9, 'learning_rate': 0.3579240927287027, 'n_estimators': 341, 'min_child_weight': 5, 'gamma': 0.013116485763435604, 'subsample': 0.1054000198613031, 'colsample_bytree': 0.02975947427600036, 'reg_alpha': 0.24858241534525805, 'reg_lambda': 0.05059901542728049}. Best is trial 0 with value: 0.7815854483758435.\u001b[0m\n",
      "\u001b[32m[I 2022-11-13 17:05:52,344]\u001b[0m Trial 7 finished with value: 0.6169903040612033 and parameters: {'ngram_range': (1, 3), 'max_df': 0.7494509389388885, 'min_df': 0.01578568535590795, 'max_depth': 1, 'learning_rate': 0.04838224086127562, 'n_estimators': 487, 'min_child_weight': 4, 'gamma': 3.756837618873325e-08, 'subsample': 0.026136760129190684, 'colsample_bytree': 0.07977925942799415, 'reg_alpha': 1.4784371588154237e-08, 'reg_lambda': 1.1570699464941128e-06}. Best is trial 0 with value: 0.7815854483758435.\u001b[0m\n",
      "\u001b[32m[I 2022-11-13 17:06:08,275]\u001b[0m Trial 8 finished with value: 0.7373983253267316 and parameters: {'ngram_range': (1, 1), 'max_df': 0.8003993961608055, 'min_df': 0.009929914986505542, 'max_depth': 8, 'learning_rate': 0.156924157193166, 'n_estimators': 89, 'min_child_weight': 9, 'gamma': 1.9584526414553937e-06, 'subsample': 0.49620620392354425, 'colsample_bytree': 0.06156386292167391, 'reg_alpha': 1.2050336961096237e-07, 'reg_lambda': 0.025858673963495386}. Best is trial 0 with value: 0.7815854483758435.\u001b[0m\n",
      "\u001b[32m[I 2022-11-13 17:06:21,947]\u001b[0m Trial 9 finished with value: 0.559849523126457 and parameters: {'ngram_range': (1, 1), 'max_df': 0.8056162237418771, 'min_df': 0.009875203392593492, 'max_depth': 1, 'learning_rate': 0.03581488858225586, 'n_estimators': 347, 'min_child_weight': 1, 'gamma': 0.0001185319648664905, 'subsample': 0.6033460220511684, 'colsample_bytree': 0.015806468097290968, 'reg_alpha': 0.2525470500955572, 'reg_lambda': 1.1768878961561398e-07}. Best is trial 0 with value: 0.7815854483758435.\u001b[0m\n"
     ]
    }
   ],
   "source": [
    "study.optimize(objective, n_trials=10)"
   ]
  },
  {
   "cell_type": "code",
   "execution_count": 306,
   "metadata": {},
   "outputs": [
    {
     "data": {
      "text/plain": [
       "{'ngram_range': (1, 1),\n",
       " 'max_df': 0.704584636465177,\n",
       " 'min_df': 0.046581906458569466,\n",
       " 'max_depth': 5,\n",
       " 'learning_rate': 0.0424302098071921,\n",
       " 'n_estimators': 391,\n",
       " 'min_child_weight': 5,\n",
       " 'gamma': 0.0019594812313602815,\n",
       " 'subsample': 0.236054892064624,\n",
       " 'colsample_bytree': 0.08638755395598695,\n",
       " 'reg_alpha': 1.6887460935833313e-07,\n",
       " 'reg_lambda': 0.05530955368784443}"
      ]
     },
     "execution_count": 306,
     "metadata": {},
     "output_type": "execute_result"
    }
   ],
   "source": [
    "trial = study.best_trial\n",
    "params = trial.params\n",
    "params"
   ]
  },
  {
   "cell_type": "code",
   "execution_count": 307,
   "metadata": {},
   "outputs": [
    {
     "data": {
      "text/plain": [
       "{'max_depth': 5,\n",
       " 'learning_rate': 0.0424302098071921,\n",
       " 'n_estimators': 391,\n",
       " 'min_child_weight': 5,\n",
       " 'gamma': 0.0019594812313602815,\n",
       " 'subsample': 0.236054892064624,\n",
       " 'colsample_bytree': 0.08638755395598695,\n",
       " 'reg_alpha': 1.6887460935833313e-07,\n",
       " 'reg_lambda': 0.05530955368784443}"
      ]
     },
     "execution_count": 307,
     "metadata": {},
     "output_type": "execute_result"
    }
   ],
   "source": [
    "fe_param_list = ['ngram_range',\n",
    "                   'max_df',\n",
    "                   'min_df',\n",
    "                   'max_features',\n",
    "                ]\n",
    "\n",
    "fe_params = {**{i: params[i] for i in params if i in fe_param_list}, \n",
    "             **{'text_col': 'tokenized_text', 'w2v_col': 'w2v'}}\n",
    "\n",
    "xgb_params = {i: params[i] for i in params if i not in fe_param_list}\n",
    "\n",
    "xgb_params"
   ]
  },
  {
   "cell_type": "markdown",
   "metadata": {},
   "source": [
    "## Evaluation"
   ]
  },
  {
   "cell_type": "code",
   "execution_count": 308,
   "metadata": {},
   "outputs": [],
   "source": [
    "model = baseline_pipe = Pipeline(steps=[\n",
    "        ('fe', FeatureExtraction(args=fe_params)),\n",
    "        ('xgb', XGBClassifier(**xgb_params))\n",
    "    ])"
   ]
  },
  {
   "cell_type": "code",
   "execution_count": 309,
   "metadata": {},
   "outputs": [
    {
     "data": {
      "text/plain": [
       "Pipeline(steps=[('fe',\n",
       "                 FeatureExtraction(args={'max_df': 0.704584636465177,\n",
       "                                         'min_df': 0.046581906458569466,\n",
       "                                         'ngram_range': (1, 1),\n",
       "                                         'text_col': 'tokenized_text',\n",
       "                                         'w2v_col': 'w2v'})),\n",
       "                ('xgb',\n",
       "                 XGBClassifier(base_score=0.5, booster='gbtree', callbacks=None,\n",
       "                               colsample_bylevel=1, colsample_bynode=1,\n",
       "                               colsample_bytree=0.08638755395598695,\n",
       "                               early_stopping_rounds=None,\n",
       "                               enable_ca...\n",
       "                               grow_policy='depthwise', importance_type=None,\n",
       "                               interaction_constraints='',\n",
       "                               learning_rate=0.0424302098071921, max_bin=256,\n",
       "                               max_cat_to_onehot=4, max_delta_step=0,\n",
       "                               max_depth=5, max_leaves=0, min_child_weight=5,\n",
       "                               missing=nan, monotone_constraints='()',\n",
       "                               n_estimators=391, n_jobs=0, num_parallel_tree=1,\n",
       "                               objective='multi:softprob', predictor='auto',\n",
       "                               random_state=0, reg_alpha=1.6887460935833313e-07, ...))])"
      ]
     },
     "execution_count": 309,
     "metadata": {},
     "output_type": "execute_result"
    }
   ],
   "source": [
    "model.fit(df_train, y_train)"
   ]
  },
  {
   "cell_type": "code",
   "execution_count": 310,
   "metadata": {},
   "outputs": [],
   "source": [
    "y_pred = model.predict(df_test)"
   ]
  },
  {
   "cell_type": "code",
   "execution_count": 311,
   "metadata": {},
   "outputs": [
    {
     "name": "stdout",
     "output_type": "stream",
     "text": [
      "              precision    recall  f1-score   support\n",
      "\n",
      "           0       0.83      0.95      0.89       618\n",
      "           1       0.81      0.74      0.78       281\n",
      "           2       0.90      0.92      0.91       301\n",
      "           3       0.84      0.78      0.81       188\n",
      "           4       0.89      0.71      0.79        90\n",
      "           5       0.90      0.38      0.54        68\n",
      "\n",
      "    accuracy                           0.85      1546\n",
      "   macro avg       0.86      0.75      0.78      1546\n",
      "weighted avg       0.85      0.85      0.84      1546\n",
      "\n"
     ]
    }
   ],
   "source": [
    "print(classification_report(y_test, y_pred))"
   ]
  },
  {
   "cell_type": "code",
   "execution_count": 312,
   "metadata": {
    "scrolled": true
   },
   "outputs": [
    {
     "data": {
      "text/plain": [
       "<AxesSubplot:title={'center':'Normalized Confusion Matrix'}, xlabel='Predicted label', ylabel='True label'>"
      ]
     },
     "execution_count": 312,
     "metadata": {},
     "output_type": "execute_result"
    },
    {
     "data": {
      "image/png": "[encoded data removed]",
      "text/plain": [
       "<Figure size 576x360 with 2 Axes>"
      ]
     },
     "metadata": {
      "needs_background": "light"
     },
     "output_type": "display_data"
    }
   ],
   "source": [
    "skplt.metrics.plot_confusion_matrix(y_test, y_pred, normalize=True, figsize=(8, 5))"
   ]
  },
  {
   "cell_type": "code",
   "execution_count": 234,
   "metadata": {},
   "outputs": [
    {
     "data": {
      "text/html": [
       "<div>\n",
       "<style scoped>\n",
       "    .dataframe tbody tr th:only-of-type {\n",
       "        vertical-align: middle;\n",
       "    }\n",
       "\n",
       "    .dataframe tbody tr th {\n",
       "        vertical-align: top;\n",
       "    }\n",
       "\n",
       "    .dataframe thead th {\n",
       "        text-align: right;\n",
       "    }\n",
       "</style>\n",
       "<table border=\"1\" class=\"dataframe\">\n",
       "  <thead>\n",
       "    <tr style=\"text-align: right;\">\n",
       "      <th></th>\n",
       "      <th>text</th>\n",
       "      <th>Product</th>\n",
       "      <th>tokens</th>\n",
       "      <th>num_tokens</th>\n",
       "      <th>target</th>\n",
       "      <th>clean_text</th>\n",
       "      <th>tfidf_text</th>\n",
       "      <th>tokenized_text</th>\n",
       "      <th>w2v</th>\n",
       "    </tr>\n",
       "  </thead>\n",
       "  <tbody>\n",
       "    <tr>\n",
       "      <th>277264</th>\n",
       "      <td>My name is XXXX XXXX and I started a reverse m...</td>\n",
       "      <td>Mortgage</td>\n",
       "      <td>[name, start, revers, mortgag, applic, america...</td>\n",
       "      <td>415</td>\n",
       "      <td>2</td>\n",
       "      <td>my name is and started reverse mortgage applic...</td>\n",
       "      <td>name 1111 1111 start revers mortgag applic ame...</td>\n",
       "      <td>name start revers mortgag applic american advi...</td>\n",
       "      <td>[-1.4595115, 0.71066505, -1.18247, -0.2951702,...</td>\n",
       "    </tr>\n",
       "    <tr>\n",
       "      <th>478490</th>\n",
       "      <td>I have to credit agencies trying to collect on...</td>\n",
       "      <td>Debt collection</td>\n",
       "      <td>[credit, agenc, tri, collect, old, medic, debt...</td>\n",
       "      <td>371</td>\n",
       "      <td>0</td>\n",
       "      <td>have to credit agencies trying to collect on ...</td>\n",
       "      <td>credit agenc tri collect old medic debt , debt...</td>\n",
       "      <td>credit agenc tri collect old medic debt debt c...</td>\n",
       "      <td>[-1.7610873, 0.4398927, -2.1569602, -0.1105511...</td>\n",
       "    </tr>\n",
       "    <tr>\n",
       "      <th>566150</th>\n",
       "      <td>I purchased a XXXX XXXX XXXX XXXX XXXX purchas...</td>\n",
       "      <td>Vehicle loan or lease</td>\n",
       "      <td>[purchas, purchas, date, purchas, person, beli...</td>\n",
       "      <td>470</td>\n",
       "      <td>5</td>\n",
       "      <td>purchased purchased from in on date of purcha...</td>\n",
       "      <td>purchas 1111 1111 1111 1111 1111 purchas 1111 ...</td>\n",
       "      <td>purchas purchas date purchas person believ sha...</td>\n",
       "      <td>[-1.2383757, 0.9532511, -2.8963547, -1.0016904...</td>\n",
       "    </tr>\n",
       "    <tr>\n",
       "      <th>815028</th>\n",
       "      <td>This company knowingly did business with a com...</td>\n",
       "      <td>Debt collection</td>\n",
       "      <td>[compani, knowingli, busi, compani, break, law...</td>\n",
       "      <td>30</td>\n",
       "      <td>0</td>\n",
       "      <td>this company knowingly did business with compa...</td>\n",
       "      <td>compani knowingli busi compani break law viola...</td>\n",
       "      <td>compani knowingli busi compani break law viola...</td>\n",
       "      <td>[-1.3742648, 0.2592088, -2.5936291, -0.6196591...</td>\n",
       "    </tr>\n",
       "    <tr>\n",
       "      <th>418605</th>\n",
       "      <td>Company ( XXXX XXXX ) is reporting owed amount...</td>\n",
       "      <td>Debt collection</td>\n",
       "      <td>[compani, report, owe, amount, $, report, debt...</td>\n",
       "      <td>176</td>\n",
       "      <td>0</td>\n",
       "      <td>company is reporting owed amounts of $ on my a...</td>\n",
       "      <td>compani ( 1111 1111 ) report owe amount { $ 30...</td>\n",
       "      <td>compani report owe amount $ report debt corp y...</td>\n",
       "      <td>[-1.5181528, 0.70110196, -1.6604323, 0.0666893...</td>\n",
       "    </tr>\n",
       "  </tbody>\n",
       "</table>\n",
       "</div>"
      ],
      "text/plain": [
       "                                                     text  \\\n",
       "277264  My name is XXXX XXXX and I started a reverse m...   \n",
       "478490  I have to credit agencies trying to collect on...   \n",
       "566150  I purchased a XXXX XXXX XXXX XXXX XXXX purchas...   \n",
       "815028  This company knowingly did business with a com...   \n",
       "418605  Company ( XXXX XXXX ) is reporting owed amount...   \n",
       "\n",
       "                      Product  \\\n",
       "277264               Mortgage   \n",
       "478490        Debt collection   \n",
       "566150  Vehicle loan or lease   \n",
       "815028        Debt collection   \n",
       "418605        Debt collection   \n",
       "\n",
       "                                                   tokens  num_tokens  target  \\\n",
       "277264  [name, start, revers, mortgag, applic, america...         415       2   \n",
       "478490  [credit, agenc, tri, collect, old, medic, debt...         371       0   \n",
       "566150  [purchas, purchas, date, purchas, person, beli...         470       5   \n",
       "815028  [compani, knowingli, busi, compani, break, law...          30       0   \n",
       "418605  [compani, report, owe, amount, $, report, debt...         176       0   \n",
       "\n",
       "                                               clean_text  \\\n",
       "277264  my name is and started reverse mortgage applic...   \n",
       "478490   have to credit agencies trying to collect on ...   \n",
       "566150   purchased purchased from in on date of purcha...   \n",
       "815028  this company knowingly did business with compa...   \n",
       "418605  company is reporting owed amounts of $ on my a...   \n",
       "\n",
       "                                               tfidf_text  \\\n",
       "277264  name 1111 1111 start revers mortgag applic ame...   \n",
       "478490  credit agenc tri collect old medic debt , debt...   \n",
       "566150  purchas 1111 1111 1111 1111 1111 purchas 1111 ...   \n",
       "815028  compani knowingli busi compani break law viola...   \n",
       "418605  compani ( 1111 1111 ) report owe amount { $ 30...   \n",
       "\n",
       "                                           tokenized_text  \\\n",
       "277264  name start revers mortgag applic american advi...   \n",
       "478490  credit agenc tri collect old medic debt debt c...   \n",
       "566150  purchas purchas date purchas person believ sha...   \n",
       "815028  compani knowingli busi compani break law viola...   \n",
       "418605  compani report owe amount $ report debt corp y...   \n",
       "\n",
       "                                                      w2v  \n",
       "277264  [-1.4595115, 0.71066505, -1.18247, -0.2951702,...  \n",
       "478490  [-1.7610873, 0.4398927, -2.1569602, -0.1105511...  \n",
       "566150  [-1.2383757, 0.9532511, -2.8963547, -1.0016904...  \n",
       "815028  [-1.3742648, 0.2592088, -2.5936291, -0.6196591...  \n",
       "418605  [-1.5181528, 0.70110196, -1.6604323, 0.0666893...  "
      ]
     },
     "execution_count": 234,
     "metadata": {},
     "output_type": "execute_result"
    }
   ],
   "source": [
    "df_train.head()"
   ]
  },
  {
   "cell_type": "code",
   "execution_count": 238,
   "metadata": {},
   "outputs": [
    {
     "data": {
      "text/plain": [
       "277264     [-1.4595115, 0.71066505, -1.18247, -0.2951702,...\n",
       "478490     [-1.7610873, 0.4398927, -2.1569602, -0.1105511...\n",
       "566150     [-1.2383757, 0.9532511, -2.8963547, -1.0016904...\n",
       "815028     [-1.3742648, 0.2592088, -2.5936291, -0.6196591...\n",
       "418605     [-1.5181528, 0.70110196, -1.6604323, 0.0666893...\n",
       "                                 ...                        \n",
       "678780     [-1.4173032, 0.55523705, -1.6393291, 0.1637128...\n",
       "317336     [-1.5489014, 1.5139452, -2.2106924, 0.06308704...\n",
       "5767       [-1.6668538, 0.35914618, -1.748455, -0.6533536...\n",
       "1023593    [-1.6733052, 0.57663184, -1.0048169, -0.396895...\n",
       "302172     [-2.4064152, -0.15424736, -2.3789678, -1.15609...\n",
       "Name: w2v, Length: 6181, dtype: object"
      ]
     },
     "execution_count": 238,
     "metadata": {},
     "output_type": "execute_result"
    }
   ],
   "source": [
    "df_train['w2v']"
   ]
  },
  {
   "cell_type": "code",
   "execution_count": 313,
   "metadata": {},
   "outputs": [
    {
     "data": {
      "text/plain": [
       "<AxesSubplot:>"
      ]
     },
     "execution_count": 313,
     "metadata": {},
     "output_type": "execute_result"
    },
    {
     "data": {
      "image/png": "[encoded data removed]",
      "text/plain": [
       "<Figure size 1440x720 with 1 Axes>"
      ]
     },
     "metadata": {
      "needs_background": "light"
     },
     "output_type": "display_data"
    }
   ],
   "source": [
    "feature_important = model[1].get_booster().get_score(importance_type='gain')\n",
    "\n",
    "keys = list(feature_important.keys())\n",
    "values = list(feature_important.values())\n",
    "\n",
    "data = pd.DataFrame(data=values, index=keys, columns=[\"score\"]).sort_values(by = \"score\", ascending=False)\n",
    "data.nlargest(40, columns=\"score\").plot(kind='barh', figsize = (20,10)) ## plot top 40 features"
   ]
  }
 ],
 "metadata": {
  "kernelspec": {
   "display_name": "nlp_env",
   "language": "python",
   "name": "nlp_env"
  },
  "language_info": {
   "codemirror_mode": {
    "name": "ipython",
    "version": 3
   },
   "file_extension": ".py",
   "mimetype": "text/x-python",
   "name": "python",
   "nbconvert_exporter": "python",
   "pygments_lexer": "ipython3",
   "version": "3.7.9"
  }
 },
 "nbformat": 4,
 "nbformat_minor": 4
}
